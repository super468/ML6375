{
 "cells": [
  {
   "cell_type": "markdown",
   "metadata": {
    "collapsed": true
   },
   "source": [
    "# Text Preprocessing"
   ]
  },
  {
   "cell_type": "code",
   "execution_count": 1,
   "metadata": {
    "collapsed": false
   },
   "outputs": [],
   "source": [
    "#read the text data line by line\n",
    "lines = [line.rstrip('\\n') for line in open('./sentiment labelled sentences/yelp_labelled.txt')]\n",
    "X = []\n",
    "y = []\n",
    "for line in lines:\n",
    "    line = line.split('\\t')\n",
    "    X.append(line[0])\n",
    "    y.append(line[1])"
   ]
  },
  {
   "cell_type": "markdown",
   "metadata": {},
   "source": [
    "# Build a pipelane"
   ]
  },
  {
   "cell_type": "code",
   "execution_count": 3,
   "metadata": {
    "collapsed": false
   },
   "outputs": [
    {
     "data": {
      "text/plain": [
       "['clf__fit_prior',\n",
       " 'tfidf__use_idf',\n",
       " 'vect__vocabulary',\n",
       " 'vect__analyzer',\n",
       " 'tfidf__smooth_idf',\n",
       " 'tfidf__sublinear_tf',\n",
       " 'vect__max_df',\n",
       " 'clf',\n",
       " 'vect__lowercase',\n",
       " 'vect__binary',\n",
       " 'vect__stop_words',\n",
       " 'vect__encoding',\n",
       " 'vect__max_features',\n",
       " 'vect__dtype',\n",
       " 'clf__class_prior',\n",
       " 'vect__strip_accents',\n",
       " 'vect',\n",
       " 'vect__min_df',\n",
       " 'tfidf__norm',\n",
       " 'vect__tokenizer',\n",
       " 'vect__input',\n",
       " 'vect__ngram_range',\n",
       " 'tfidf',\n",
       " 'vect__preprocessor',\n",
       " 'steps',\n",
       " 'vect__decode_error',\n",
       " 'clf__alpha',\n",
       " 'vect__token_pattern']"
      ]
     },
     "execution_count": 3,
     "metadata": {},
     "output_type": "execute_result"
    }
   ],
   "source": [
    "import numpy as np\n",
    "from sklearn.pipeline import Pipeline\n",
    "from sklearn.feature_extraction.text import CountVectorizer\n",
    "from sklearn.feature_extraction.text import TfidfTransformer\n",
    "from sklearn.naive_bayes import MultinomialNB\n",
    "text_clf = Pipeline([('vect', CountVectorizer()), ('tfidf', TfidfTransformer()),\n",
    "                     ('clf', MultinomialNB())])\n",
    "text_clf.fit(X_train, y_train)\n",
    "text_clf.get_params().keys()"
   ]
  },
  {
   "cell_type": "markdown",
   "metadata": {},
   "source": [
    "# Evaluation"
   ]
  },
  {
   "cell_type": "code",
   "execution_count": 4,
   "metadata": {
    "collapsed": false
   },
   "outputs": [
    {
     "data": {
      "text/plain": [
       "0.80000000000000004"
      ]
     },
     "execution_count": 4,
     "metadata": {},
     "output_type": "execute_result"
    }
   ],
   "source": [
    "from sklearn import metrics\n",
    "from sklearn.model_selection import cross_val_score\n",
    "scores = cross_val_score(text_clf, X, y, cv=5)\n",
    "scores.mean()\n",
    "# print(metrics.classification_report(y_test, predicted))\n",
    "# metrics.confusion_matrix(y_test, predicted)"
   ]
  },
  {
   "cell_type": "markdown",
   "metadata": {},
   "source": [
    "# Parameter tuning using grid search"
   ]
  },
  {
   "cell_type": "code",
   "execution_count": 5,
   "metadata": {
    "collapsed": false
   },
   "outputs": [],
   "source": [
    "from sklearn.model_selection import GridSearchCV\n",
    "parameters = {'vect__ngram_range': [(1, 1),(1, 2)], 'vect__analyzer':('word', 'char', 'char_wb'),\n",
    "              'tfidf__use_idf': (True, False), 'tfidf__norm':('l1','l2',None), \n",
    "              'tfidf__smooth_idf':(True, False),'tfidf__sublinear_tf':(True, False),\n",
    "              'clf__alpha': (0.5,0.1,1), 'vect__binary':(True, False)}"
   ]
  },
  {
   "cell_type": "code",
   "execution_count": 6,
   "metadata": {
    "collapsed": false
   },
   "outputs": [
    {
     "name": "stdout",
     "output_type": "stream",
     "text": [
      "{'vect__analyzer': 'word', 'vect__ngram_range': (1, 2), 'tfidf__smooth_idf': True, 'tfidf__sublinear_tf': True, 'vect__binary': True, 'tfidf__use_idf': False, 'tfidf__norm': 'l2', 'clf__alpha': 0.1}\n"
     ]
    },
    {
     "data": {
      "text/plain": [
       "0.81200000000000006"
      ]
     },
     "execution_count": 6,
     "metadata": {},
     "output_type": "execute_result"
    }
   ],
   "source": [
    "gs_clf = GridSearchCV(text_clf, parameters, n_jobs=-1, cv = 5)\n",
    "gs_clf = gs_clf.fit(X, y)\n",
    "sorted(gs_clf.cv_results_.keys())\n",
    "print(gs_clf.best_params_)\n",
    "gs_clf.best_estimator_\n",
    "gs_clf.best_score_"
   ]
  },
  {
   "cell_type": "code",
   "execution_count": null,
   "metadata": {
    "collapsed": true
   },
   "outputs": [],
   "source": [
    ""
   ]
  },
  {
   "cell_type": "code",
   "execution_count": null,
   "metadata": {
    "collapsed": true
   },
   "outputs": [],
   "source": [
    ""
   ]
  }
 ],
 "metadata": {
  "kernelspec": {
   "display_name": "Python 2",
   "language": "python",
   "name": "python2"
  },
  "language_info": {
   "codemirror_mode": {
    "name": "ipython",
    "version": 2.0
   },
   "file_extension": ".py",
   "mimetype": "text/x-python",
   "name": "python",
   "nbconvert_exporter": "python",
   "pygments_lexer": "ipython2",
   "version": "2.7.13"
  }
 },
 "nbformat": 4,
 "nbformat_minor": 0
}